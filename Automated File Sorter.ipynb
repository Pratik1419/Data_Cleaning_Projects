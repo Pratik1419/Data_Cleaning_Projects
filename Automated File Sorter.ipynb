{
 "cells": [
  {
   "cell_type": "markdown",
   "id": "04f53999",
   "metadata": {},
   "source": [
    "### Building an Automated File Sorter in File Explorer"
   ]
  },
  {
   "cell_type": "code",
   "execution_count": 7,
   "id": "758a3865",
   "metadata": {},
   "outputs": [],
   "source": [
    "import os, shutil"
   ]
  },
  {
   "cell_type": "code",
   "execution_count": 8,
   "id": "9fdd8959",
   "metadata": {},
   "outputs": [],
   "source": [
    "path = r\"D:/automated file name (ot impotant)/\""
   ]
  },
  {
   "cell_type": "code",
   "execution_count": 9,
   "id": "f5ae870a",
   "metadata": {},
   "outputs": [
    {
     "data": {
      "text/plain": [
       "['desktop-398724.jpg',\n",
       " 'hello world.txt',\n",
       " 'photo_2022-04-19_01-48-03.jpg',\n",
       " 'Tableau Joins File.xlsx']"
      ]
     },
     "execution_count": 9,
     "metadata": {},
     "output_type": "execute_result"
    }
   ],
   "source": [
    "os.listdir(path)"
   ]
  },
  {
   "cell_type": "code",
   "execution_count": 10,
   "id": "e4935b47",
   "metadata": {},
   "outputs": [],
   "source": [
    "files_names = [\"image files\", \"text files\", \"xlsx files\"]\n",
    "\n",
    "for files in range(0,3):\n",
    "    if not os.path.exists(path + files_names[files]):\n",
    "        os.makedirs((path + files_names[files]))"
   ]
  },
  {
   "cell_type": "markdown",
   "id": "9d05b98a",
   "metadata": {},
   "source": [
    "Then we have to check whichi file is thier and then with their file name.(in which we have to loop through it to work.)"
   ]
  },
  {
   "cell_type": "code",
   "execution_count": 11,
   "id": "1c3c3d2a",
   "metadata": {},
   "outputs": [],
   "source": [
    "new_file_name = os.listdir(path)"
   ]
  },
  {
   "cell_type": "code",
   "execution_count": null,
   "id": "6f15eb2f",
   "metadata": {},
   "outputs": [
    {
     "name": "stdout",
     "output_type": "stream",
     "text": [
      "They are files in this path have not moved\n"
     ]
    }
   ],
   "source": [
    "for file in new_file_name:\n",
    "    if \".xlsx\" in file and not os.path.exists(path + \"xlsx files/\" + file):\n",
    "        shutil.move(path+file, path + \"xlsx files/\" + file)\n",
    "    elif \".txt\" in file and not os.path.exists(path + \"text files/\" + file):\n",
    "        shutil.move(path+file, path + \"text files/\" + file)\n",
    "    elif \".jpg\" in file and not os.path.exists(path + \"image files/\" + file):\n",
    "        shutil.move(path+file, path + \"image files/\" + file)\n"
   ]
  }
 ],
 "metadata": {
  "kernelspec": {
   "display_name": "base",
   "language": "python",
   "name": "python3"
  },
  "language_info": {
   "codemirror_mode": {
    "name": "ipython",
    "version": 3
   },
   "file_extension": ".py",
   "mimetype": "text/x-python",
   "name": "python",
   "nbconvert_exporter": "python",
   "pygments_lexer": "ipython3",
   "version": "3.12.4"
  }
 },
 "nbformat": 4,
 "nbformat_minor": 5
}
